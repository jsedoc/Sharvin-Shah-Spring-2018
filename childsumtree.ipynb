{
 "cells": [
  {
   "cell_type": "code",
   "execution_count": 1,
   "metadata": {
    "collapsed": false
   },
   "outputs": [
    {
     "name": "stderr",
     "output_type": "stream",
     "text": [
      "100%|██████████| 1000/1000 [00:00<00:00, 11543.08it/s]\n",
      "100%|██████████| 1000/1000 [00:00<00:00, 508400.48it/s]\n",
      "  0%|          | 0/1000 [00:00<?, ?it/s]"
     ]
    },
    {
     "name": "stdout",
     "output_type": "stream",
     "text": [
      "71\n",
      "\n",
      "\n",
      "Columns 0 to 12 \n",
      "    0     1     0     0     0     0     0     0     0     0     0     0     0\n",
      "\n",
      "Columns 13 to 25 \n",
      "    0     0     0     0     0     0     0     0     0     0     0     0     0\n",
      "\n",
      "Columns 26 to 38 \n",
      "    0     0     0     0     0     0     0     0     0     0     0     0     0\n",
      "\n",
      "Columns 39 to 51 \n",
      "    0     0     0     0     0     0     0     0     0     0     0     0     0\n",
      "\n",
      "Columns 52 to 64 \n",
      "    0     0     0     0     0     0     0     0     0     0     0     0     0\n",
      "\n",
      "Columns 65 to 70 \n",
      "    0     0     0     0     0     0\n",
      "[torch.FloatTensor of size 1x71]\n",
      "\n",
      "(* (* (+ 55 (+ 56 53)) 31) (- 5 (* 54 9)))\n",
      "( * ( * ( + 55 ( + 56 53 ) ) 31 ) ( - 5 ( * 54 9 ) ) )\n",
      "\n",
      "(* (* (+ 55 (+ 56 53)) 31) (- 5 (* 54 9)))\n",
      "['55', '56', '53', '31', '5', '54', '9']\n"
     ]
    },
    {
     "name": "stderr",
     "output_type": "stream",
     "text": [
      "100%|██████████| 1000/1000 [00:00<00:00, 3185.33it/s]"
     ]
    },
    {
     "name": "stdout",
     "output_type": "stream",
     "text": [
      "(12 (6 (4 0 (3 1 2)) 5) (11 7 (10 8 9)))\n",
      "(* (* (+ 55 (+ 56 53)) 31) (- 5 (* 54 9)))\n"
     ]
    },
    {
     "name": "stderr",
     "output_type": "stream",
     "text": [
      "\n"
     ]
    }
   ],
   "source": [
    "%run 'tree2seq_dataloader.ipynb'"
   ]
  },
  {
   "cell_type": "code",
   "execution_count": 2,
   "metadata": {
    "collapsed": true
   },
   "outputs": [],
   "source": [
    "import torch\n",
    "import torch.nn as nn\n",
    "import torch.nn.functional as F\n",
    "from torch.autograd import Variable as Var\n",
    "\n",
    "# module for childsumtreelstm\n",
    "class ChildSumTreeLSTM(nn.Module):\n",
    "    def __init__(self, in_dim, mem_dim):\n",
    "        super(ChildSumTreeLSTM, self).__init__()\n",
    "        self.in_dim = in_dim\n",
    "        self.mem_dim = mem_dim\n",
    "        self.ioux = nn.Linear(self.in_dim, 3 * self.mem_dim)\n",
    "        self.iouh = nn.Linear(self.mem_dim, 3 * self.mem_dim)\n",
    "        self.fx = nn.Linear(self.in_dim, self.mem_dim)\n",
    "        self.fh = nn.Linear(self.mem_dim, self.mem_dim)\n",
    "\n",
    "    def node_forward(self, inputs, child_c, child_h):\n",
    "        child_h_sum = torch.sum(child_h, dim=0, keepdim=True)\n",
    "\n",
    "        iou = self.ioux(inputs) + self.iouh(child_h_sum)\n",
    "        i, o, u = torch.split(iou, iou.size(1) // 3, dim=1)\n",
    "        i, o, u = F.sigmoid(i), F.sigmoid(o), F.tanh(u)\n",
    "\n",
    "        f = F.sigmoid(\n",
    "            self.fh(child_h) +\n",
    "            self.fx(inputs).repeat(len(child_h), 1)\n",
    "        )\n",
    "        fc = torch.mul(f, child_c)\n",
    "\n",
    "        c = torch.mul(i, u) + torch.sum(fc, dim=0, keepdim=True)\n",
    "        h = torch.mul(o, F.tanh(c))\n",
    "        return c, h\n",
    "\n",
    "    def forward(self, tree, inputs):\n",
    "        if isinstance(tree, Tree):\n",
    "            child_states = []\n",
    "            for child in tree:\n",
    "                child_states.append(self.forward(child, inputs))\n",
    "                \n",
    "            child_c, child_h = zip(* map(lambda x: x, child_states))\n",
    "            child_c, child_h = torch.cat(child_c, dim=0), torch.cat(child_h, dim=0)\n",
    "            state = self.node_forward(inputs[tree.label()], child_c, child_h)\n",
    "        else:\n",
    "            child_c = Var(inputs[0].data.new(1, self.mem_dim).fill_(0.))\n",
    "            child_h = Var(inputs[0].data.new(1, self.mem_dim).fill_(0.))\n",
    "            state = self.node_forward(inputs[tree], child_c, child_h)\n",
    "        return state\n"
   ]
  },
  {
   "cell_type": "code",
   "execution_count": 4,
   "metadata": {
    "collapsed": false
   },
   "outputs": [
    {
     "name": "stderr",
     "output_type": "stream",
     "text": [
      "100%|██████████| 1000/1000 [00:00<00:00, 9810.18it/s]\n",
      "100%|██████████| 1000/1000 [00:00<00:00, 435138.91it/s]"
     ]
    },
    {
     "name": "stdout",
     "output_type": "stream",
     "text": [
      "['ChildSumTreeLSTM', 'Dataset', 'F', 'In', 'Out', 'Tree', 'Var', '_', '__', '___', '__builtin__', '__builtins__', '__doc__', '__name__', '__package__', '_dh', '_i', '_i1', '_i2', '_i3', '_i4', '_ih', '_ii', '_iii', '_oh', '_sh', 'copy', 'data', 'dataset', 'exit', 'get_ipython', 'nn', 'np', 'one_hot_dict', 'operator', 'ptr_trees', 'quit', 'seqs', 'tmp', 'torch', 'tqdm', 'tree', 'trees']\n",
      "71\n"
     ]
    },
    {
     "name": "stderr",
     "output_type": "stream",
     "text": [
      "\n"
     ]
    }
   ],
   "source": [
    "if __name__ == '__main__':\n",
    "    print(dir())\n",
    "    dataset = Dataset()\n",
    "    dataset.create_vocab('data/train.orig')\n",
    "    one_hot_dict = dataset.create_one_hot()\n",
    "\n",
    "    trees = dataset.read_trees('data/train.orig')\n",
    "    seqs = dataset.read_seqs('data/train.orig')"
   ]
  },
  {
   "cell_type": "code",
   "execution_count": 5,
   "metadata": {
    "collapsed": true
   },
   "outputs": [],
   "source": [
    "cst = ChildSumTreeLSTM(dataset.vector_dim, 64)"
   ]
  },
  {
   "cell_type": "code",
   "execution_count": 6,
   "metadata": {
    "collapsed": false
   },
   "outputs": [
    {
     "data": {
      "text/plain": [
       "(Variable containing:\n",
       " \n",
       " Columns 0 to 9 \n",
       "  0.0732  0.0741 -0.2140  0.1343 -0.4944  0.2524 -0.3643  0.0967  0.1445 -0.1956\n",
       " \n",
       " Columns 10 to 19 \n",
       "  0.1266  0.0453  0.0874 -0.1592 -0.2266 -0.1153 -0.0979  0.3408  0.1792  0.1575\n",
       " \n",
       " Columns 20 to 29 \n",
       " -0.1935 -0.0367  0.0714 -0.1241 -0.0218 -0.2122  0.2396  0.1159  0.0614 -0.0815\n",
       " \n",
       " Columns 30 to 39 \n",
       "  0.2067 -0.1138 -0.0770  0.5037  0.2422  0.2934  0.0545  0.0192 -0.1438 -0.2762\n",
       " \n",
       " Columns 40 to 49 \n",
       "  0.1492 -0.0113 -0.2250 -0.2761  0.0296 -0.0191  0.1368 -0.1910  0.0893 -0.0686\n",
       " \n",
       " Columns 50 to 59 \n",
       " -0.1498 -0.0770  0.1058 -0.0612 -0.2940 -0.0334  0.1732  0.1049 -0.3903  0.3993\n",
       " \n",
       " Columns 60 to 63 \n",
       " -0.0513 -0.2406 -0.1352  0.2209\n",
       " [torch.FloatTensor of size 1x64], Variable containing:\n",
       " \n",
       " Columns 0 to 9 \n",
       "  0.0420  0.0401 -0.1166  0.0597 -0.2233  0.1380 -0.1563  0.0446  0.0709 -0.1104\n",
       " \n",
       " Columns 10 to 19 \n",
       "  0.0573  0.0203  0.0455 -0.0788 -0.1053 -0.0471 -0.0490  0.1862  0.0948  0.0828\n",
       " \n",
       " Columns 20 to 29 \n",
       " -0.1006 -0.0169  0.0319 -0.0596 -0.0109 -0.1061  0.1255  0.0581  0.0282 -0.0348\n",
       " \n",
       " Columns 30 to 39 \n",
       "  0.0979 -0.0514 -0.0387  0.2397  0.1271  0.1462  0.0268  0.0099 -0.0787 -0.1363\n",
       " \n",
       " Columns 40 to 49 \n",
       "  0.0734 -0.0056 -0.1098 -0.1295  0.0141 -0.0081  0.0644 -0.0898  0.0470 -0.0280\n",
       " \n",
       " Columns 50 to 59 \n",
       " -0.0746 -0.0359  0.0534 -0.0316 -0.1671 -0.0160  0.0900  0.0524 -0.1861  0.1841\n",
       " \n",
       " Columns 60 to 63 \n",
       " -0.0266 -0.1164 -0.0712  0.1179\n",
       " [torch.FloatTensor of size 1x64])"
      ]
     },
     "execution_count": 6,
     "metadata": {},
     "output_type": "execute_result"
    }
   ],
   "source": [
    "cst.forward(ptr_trees[1][0], Var(ptr_trees[1][1]))"
   ]
  }
 ],
 "metadata": {
  "kernelspec": {
   "display_name": "Python [Root]",
   "language": "python",
   "name": "Python [Root]"
  },
  "language_info": {
   "codemirror_mode": {
    "name": "ipython",
    "version": 2
   },
   "file_extension": ".py",
   "mimetype": "text/x-python",
   "name": "python",
   "nbconvert_exporter": "python",
   "pygments_lexer": "ipython2",
   "version": "2.7.12"
  }
 },
 "nbformat": 4,
 "nbformat_minor": 2
}
