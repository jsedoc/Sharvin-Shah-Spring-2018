{
 "cells": [
  {
   "cell_type": "code",
   "execution_count": 1,
   "metadata": {},
   "outputs": [
    {
     "name": "stderr",
     "output_type": "stream",
     "text": [
      "100%|██████████| 1000/1000 [00:00<00:00, 33466.62it/s]\n",
      "100%|██████████| 1000/1000 [00:00<00:00, 2112999.50it/s]\n",
      "100%|██████████| 1000/1000 [00:00<00:00, 7106.15it/s]"
     ]
    },
    {
     "name": "stdout",
     "output_type": "stream",
     "text": [
      "71\n",
      "\n",
      "\n",
      "Columns 0 to 12 \n",
      "    1     0     0     0     0     0     0     0     0     0     0     0     0\n",
      "\n",
      "Columns 13 to 25 \n",
      "    0     0     0     0     0     0     0     0     0     0     0     0     0\n",
      "\n",
      "Columns 26 to 38 \n",
      "    0     0     0     0     0     0     0     0     0     0     0     0     0\n",
      "\n",
      "Columns 39 to 51 \n",
      "    0     0     0     0     0     0     0     0     0     0     0     0     0\n",
      "\n",
      "Columns 52 to 64 \n",
      "    0     0     0     0     0     0     0     0     0     0     0     0     0\n",
      "\n",
      "Columns 65 to 70 \n",
      "    0     0     0     0     0     0\n",
      "[torch.FloatTensor of size 1x71]\n",
      "\n",
      "(* (* (+ 55 (+ 56 53)) 31) (- 5 (* 54 9)))\n",
      "( * ( * ( + 55 ( + 56 53 ) ) 31 ) ( - 5 ( * 54 9 ) ) )\n",
      "\n",
      "(* (* (+ 55 (+ 56 53)) 31) (- 5 (* 54 9)))\n",
      "['55', '56', '53', '31', '5', '54', '9']\n",
      "(12 (6 (4 0 (3 1 2)) 5) (11 7 (10 8 9)))\n",
      "(* (* (+ 55 (+ 56 53)) 31) (- 5 (* 54 9)))\n"
     ]
    },
    {
     "name": "stderr",
     "output_type": "stream",
     "text": [
      "\n"
     ]
    }
   ],
   "source": [
    "%run 'tree2seq_dataloader.ipynb'"
   ]
  },
  {
   "cell_type": "code",
   "execution_count": 11,
   "metadata": {},
   "outputs": [],
   "source": [
    "import torch\n",
    "import torch.nn as nn\n",
    "import torch.nn.functional as F\n",
    "from torch.autograd import Variable as Var\n",
    "\n",
    "# module for childsumtreelstm\n",
    "class ChildSumTreeLSTM(nn.Module):\n",
    "    def __init__(self, in_dim, mem_dim):\n",
    "        super(ChildSumTreeLSTM, self).__init__()\n",
    "        self.in_dim = in_dim\n",
    "        self.mem_dim = mem_dim\n",
    "        self.ioux = nn.Linear(self.in_dim, 3 * self.mem_dim)\n",
    "        self.iouh = nn.Linear(self.mem_dim, 3 * self.mem_dim)\n",
    "        self.fx = nn.Linear(self.in_dim, self.mem_dim)\n",
    "        self.fh = nn.Linear(self.mem_dim, self.mem_dim)\n",
    "\n",
    "    def node_forward(self, inputs, child_c, child_h):\n",
    "        child_h_sum = torch.sum(child_h, dim=0, keepdim=True)\n",
    "\n",
    "        iou = self.ioux(inputs) + self.iouh(child_h_sum)\n",
    "        i, o, u = torch.split(iou, iou.size(1) // 3, dim=1)\n",
    "        i, o, u = F.sigmoid(i), F.sigmoid(o), F.tanh(u)\n",
    "\n",
    "        f = F.sigmoid(\n",
    "            self.fh(child_h) +\n",
    "            self.fx(inputs).repeat(len(child_h), 1)\n",
    "        )\n",
    "        fc = torch.mul(f, child_c)\n",
    "\n",
    "        c = torch.mul(i, u) + torch.sum(fc, dim=0, keepdim=True)\n",
    "        h = torch.mul(o, F.tanh(c))\n",
    "        return c, h\n",
    "\n",
    "    def forward(self, tree, inputs):\n",
    "        if isinstance(tree, Tree):\n",
    "            child_states = []\n",
    "            for child in tree:\n",
    "                child_states.append(self.forward(child, inputs))\n",
    "                \n",
    "            child_c, child_h = zip(* map(lambda x: x, child_states))\n",
    "            child_c, child_h = torch.cat(child_c, dim=0), torch.cat(child_h, dim=0)\n",
    "            state = self.node_forward(inputs[tree.label()], child_c, child_h)\n",
    "        else:\n",
    "            child_c = Var(inputs[0].data.new(1, self.mem_dim).fill_(0.))\n",
    "            child_h = Var(inputs[0].data.new(1, self.mem_dim).fill_(0.))\n",
    "            state = self.node_forward(inputs[tree], child_c, child_h)\n",
    "        return state\n"
   ]
  },
  {
   "cell_type": "code",
   "execution_count": 12,
   "metadata": {},
   "outputs": [
    {
     "name": "stderr",
     "output_type": "stream",
     "text": [
      "100%|██████████| 1000/1000 [00:00<00:00, 21926.19it/s]\n",
      "100%|██████████| 1000/1000 [00:00<00:00, 1489454.55it/s]"
     ]
    },
    {
     "name": "stdout",
     "output_type": "stream",
     "text": [
      "['ChildSumTreeLSTM', 'Dataset', 'F', 'In', 'Out', 'Tree', 'Var', '_', '__', '___', '__builtin__', '__builtins__', '__doc__', '__loader__', '__name__', '__package__', '__spec__', '_dh', '_i', '_i1', '_i10', '_i11', '_i12', '_i2', '_i3', '_i4', '_i5', '_i6', '_i7', '_i8', '_i9', '_ih', '_ii', '_iii', '_oh', 'copy', 'cst', 'data', 'dataset', 'exit', 'get_ipython', 'nn', 'np', 'one_hot_dict', 'operator', 'ptr_trees', 'quit', 'seqs', 'tmp', 'torch', 'tqdm', 'trees']\n",
      "71\n"
     ]
    },
    {
     "name": "stderr",
     "output_type": "stream",
     "text": [
      "\n"
     ]
    }
   ],
   "source": [
    "if __name__ == '__main__':\n",
    "    print(dir())\n",
    "    dataset = Dataset()\n",
    "    dataset.create_vocab('/data2/t2t/train.orig')\n",
    "    one_hot_dict = dataset.create_one_hot()\n",
    "\n",
    "    trees = dataset.read_trees('/data2/t2t/train.orig')\n",
    "    seqs = dataset.read_seqs('/data2/t2t/train.orig')"
   ]
  },
  {
   "cell_type": "code",
   "execution_count": 13,
   "metadata": {},
   "outputs": [],
   "source": [
    "cst = ChildSumTreeLSTM(dataset.vector_dim, 64)"
   ]
  },
  {
   "cell_type": "code",
   "execution_count": 16,
   "metadata": {},
   "outputs": [
    {
     "data": {
      "text/plain": [
       "(Variable containing:\n",
       " \n",
       " Columns 0 to 9 \n",
       " -0.2279 -0.4095  0.0287  0.0377  0.1976  0.0180 -0.2470  0.0252  0.0021  0.2113\n",
       " \n",
       " Columns 10 to 19 \n",
       "  0.0532 -0.1306 -0.1550 -0.0267  0.0747  0.3380  0.0241  0.0096 -0.2594 -0.1655\n",
       " \n",
       " Columns 20 to 29 \n",
       "  0.0813 -0.0133 -0.1468  0.0634  0.1857 -0.2634  0.0988  0.1450 -0.1498  0.2546\n",
       " \n",
       " Columns 30 to 39 \n",
       " -0.1359 -0.4108  0.2300  0.0162 -0.1968  0.0431  0.3946 -0.1576  0.0574  0.1402\n",
       " \n",
       " Columns 40 to 49 \n",
       "  0.0936  0.1136  0.2470  0.2659 -0.1649  0.0587  0.0767  0.0589 -0.1570 -0.0027\n",
       " \n",
       " Columns 50 to 59 \n",
       " -0.1235  0.1413  0.3275  0.0608  0.2070  0.4714 -0.1290 -0.3743  0.1217 -0.0848\n",
       " \n",
       " Columns 60 to 63 \n",
       "  0.0487  0.3895  0.0129 -0.2850\n",
       " [torch.FloatTensor of size 1x64], Variable containing:\n",
       " \n",
       " Columns 0 to 9 \n",
       " -0.1072 -0.1857  0.0126  0.0191  0.1055  0.0087 -0.1178  0.0117  0.0011  0.1119\n",
       " \n",
       " Columns 10 to 19 \n",
       "  0.0264 -0.0679 -0.0872 -0.0132  0.0349  0.1558  0.0128  0.0047 -0.1152 -0.0801\n",
       " \n",
       " Columns 20 to 29 \n",
       "  0.0366 -0.0065 -0.0765  0.0323  0.1085 -0.1231  0.0475  0.0677 -0.0804  0.1287\n",
       " \n",
       " Columns 30 to 39 \n",
       " -0.0610 -0.1918  0.1076  0.0071 -0.0994  0.0243  0.2247 -0.0783  0.0273  0.0649\n",
       " \n",
       " Columns 40 to 49 \n",
       "  0.0498  0.0596  0.1191  0.1319 -0.0855  0.0288  0.0395  0.0284 -0.0739 -0.0015\n",
       " \n",
       " Columns 50 to 59 \n",
       " -0.0661  0.0588  0.1542  0.0332  0.1081  0.2178 -0.0626 -0.1882  0.0572 -0.0479\n",
       " \n",
       " Columns 60 to 63 \n",
       "  0.0258  0.1784  0.0062 -0.1448\n",
       " [torch.FloatTensor of size 1x64])"
      ]
     },
     "execution_count": 16,
     "metadata": {},
     "output_type": "execute_result"
    }
   ],
   "source": [
    "cst.forward(ptr_trees[1][0], Var(ptr_trees[1][1]))"
   ]
  },
  {
   "cell_type": "code",
   "execution_count": null,
   "metadata": {},
   "outputs": [],
   "source": []
  }
 ],
 "metadata": {
  "kernelspec": {
   "display_name": "Python 3",
   "language": "python",
   "name": "python3"
  },
  "language_info": {
   "codemirror_mode": {
    "name": "ipython",
    "version": 3
   },
   "file_extension": ".py",
   "mimetype": "text/x-python",
   "name": "python",
   "nbconvert_exporter": "python",
   "pygments_lexer": "ipython3",
   "version": "3.6.4"
  }
 },
 "nbformat": 4,
 "nbformat_minor": 2
}
