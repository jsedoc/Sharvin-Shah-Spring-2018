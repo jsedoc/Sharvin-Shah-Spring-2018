{
 "cells": [
  {
   "cell_type": "code",
   "execution_count": 30,
   "metadata": {},
   "outputs": [],
   "source": [
    "# coding: utf-8\n",
    "\n",
    "# NOTE: for sorting by value\n",
    "import operator, copy\n",
    "\n",
    "from tqdm import tqdm\n",
    "\n",
    "import torch\n",
    "import torch.utils.data as data\n",
    "\n",
    "from nltk import Tree\n",
    "\n",
    "\n",
    "class Dataset(data.Dataset):\n",
    "\n",
    "    def __len__(self):\n",
    "        return self.size\n",
    "\n",
    "    def read_trees(self, filename):\n",
    "        with open(filename, 'r') as f:\n",
    "            trees = [Tree.fromstring(line) for line in tqdm(f.readlines())]\n",
    "        return trees\n",
    "    \n",
    "    def read_seqs(self, filename):\n",
    "        with open(filename, 'r') as f:\n",
    "            seqs = [line for line in tqdm(f.readlines())]\n",
    "        return seqs\n",
    "    \n",
    "    def create_vocab(self, filename, max_lines = -1):\n",
    "        vocab = dict()\n",
    "        with open(filename, 'r') as f:\n",
    "            # for token in f.read().split():\n",
    "            line_num = 0\n",
    "            for line in f.readlines():\n",
    "                if max_lines > 0 and line_num < max_lines:\n",
    "                    break\n",
    "                line_num += 1\n",
    "                for token in line.split():\n",
    "                    if token not in vocab:\n",
    "                        vocab[token] = 1\n",
    "                    else:\n",
    "                        vocab[token] += 1\n",
    "        print(len(vocab.keys()))\n",
    "        \n",
    "        index = 0\n",
    "        token_dict = {}\n",
    "        # from https://stackoverflow.com/questions/613183/how-do-i-sort-a-dictionary-by-value\n",
    "        sorted_vocab  = sorted(vocab.items(), key=operator.itemgetter(1), reverse=True)\n",
    "        for (token,_) in sorted_vocab:\n",
    "            token_dict[token] = index\n",
    "            index += 1\n",
    "    \n",
    "        self.vocab = vocab\n",
    "        self.token_dict = token_dict\n",
    "        \n",
    "        return token_dict\n",
    "\n",
    "    def create_one_hot(self, vector_dim = -1):\n",
    "        if vector_dim < 1:\n",
    "            vector_dim = len(self.token_dict.keys())\n",
    "        one_hot_dict = {}\n",
    "        \n",
    "        for token in self.token_dict:    \n",
    "            tensor = torch.zeros(1, vector_dim)\n",
    "            tensor[0][self.token_dict[token]] = 1\n",
    "            one_hot_dict[token] = tensor\n",
    "        self.one_hot_dict = one_hot_dict\n",
    "        self.vector_dim = vector_dim\n",
    "        return one_hot_dict\n",
    "\n",
    "    def fetch_one_hot(self, token_dict, token):\n",
    "        return one_hot_dict[token]\n",
    "    \n",
    "    def make_ptr_tree(self, src_tree):\n",
    "        tree = copy.deepcopy(src_tree)\n",
    "        tree_matrix=torch.zeros(len(tree.treepositions()), dataset.vector_dim)\n",
    "        (idx, tree_matrix) = self.create_pointer_tree(tree, 0, tree_matrix)\n",
    "        return (tree, tree_matrix)\n",
    "    \n",
    "    def create_pointer_tree(self, tree, idx, tree_matrix):\n",
    "        if isinstance(tree, Tree):\n",
    "            for i, child in enumerate(tree):\n",
    "                (idx, tree_matrix) = self.create_pointer_tree(child, idx, tree_matrix)\n",
    "                if not isinstance(child, Tree):\n",
    "                    tree[i] = idx - 1\n",
    "            tree_matrix[idx,] = self.one_hot_dict[tree.label()]\n",
    "            tree.set_label(idx)\n",
    "            idx+= 1\n",
    "        else:\n",
    "            tree_matrix[idx,] = self.one_hot_dict[tree]\n",
    "            idx += 1\n",
    "\n",
    "        return (idx, tree_matrix) \n"
   ]
  },
  {
   "cell_type": "code",
   "execution_count": 31,
   "metadata": {},
   "outputs": [
    {
     "name": "stderr",
     "output_type": "stream",
     "text": [
      "100%|██████████| 1000/1000 [00:00<00:00, 22635.45it/s]\n",
      "100%|██████████| 1000/1000 [00:00<00:00, 1415559.91it/s]"
     ]
    },
    {
     "name": "stdout",
     "output_type": "stream",
     "text": [
      "71\n",
      "\n",
      "\n",
      "Columns 0 to 12 \n",
      "    1     0     0     0     0     0     0     0     0     0     0     0     0\n",
      "\n",
      "Columns 13 to 25 \n",
      "    0     0     0     0     0     0     0     0     0     0     0     0     0\n",
      "\n",
      "Columns 26 to 38 \n",
      "    0     0     0     0     0     0     0     0     0     0     0     0     0\n",
      "\n",
      "Columns 39 to 51 \n",
      "    0     0     0     0     0     0     0     0     0     0     0     0     0\n",
      "\n",
      "Columns 52 to 64 \n",
      "    0     0     0     0     0     0     0     0     0     0     0     0     0\n",
      "\n",
      "Columns 65 to 70 \n",
      "    0     0     0     0     0     0\n",
      "[torch.FloatTensor of size 1x71]\n",
      "\n",
      "(* (* (+ 55 (+ 56 53)) 31) (- 5 (* 54 9)))\n",
      "( * ( * ( + 55 ( + 56 53 ) ) 31 ) ( - 5 ( * 54 9 ) ) )\n",
      "\n"
     ]
    },
    {
     "name": "stderr",
     "output_type": "stream",
     "text": [
      "\n"
     ]
    }
   ],
   "source": [
    "if __name__ == '__main__':\n",
    "    dataset = Dataset()\n",
    "    dataset.create_vocab('/data2/t2t/train.orig')\n",
    "    one_hot_dict = dataset.create_one_hot()\n",
    "    print(one_hot_dict['('])\n",
    "\n",
    "    trees = dataset.read_trees('/data2/t2t/train.orig')\n",
    "    seqs = dataset.read_seqs('/data2/t2t/train.orig')\n",
    "\n",
    "    print(trees[1])\n",
    "    print(seqs[1])"
   ]
  },
  {
   "cell_type": "code",
   "execution_count": 32,
   "metadata": {},
   "outputs": [],
   "source": [
    "tmp = trees[1]\n",
    "import numpy as np\n",
    "#tmp.set_label(np.zeros(10))"
   ]
  },
  {
   "cell_type": "code",
   "execution_count": 33,
   "metadata": {},
   "outputs": [
    {
     "name": "stdout",
     "output_type": "stream",
     "text": [
      "(* (* (+ 55 (+ 56 53)) 31) (- 5 (* 54 9)))\n"
     ]
    }
   ],
   "source": [
    "print(tmp)"
   ]
  },
  {
   "cell_type": "code",
   "execution_count": 34,
   "metadata": {},
   "outputs": [
    {
     "name": "stdout",
     "output_type": "stream",
     "text": [
      "['55', '56', '53', '31', '5', '54', '9']\n"
     ]
    }
   ],
   "source": [
    "print(tmp.leaves())"
   ]
  },
  {
   "cell_type": "code",
   "execution_count": 35,
   "metadata": {},
   "outputs": [],
   "source": [
    "#tree_matrix = torch.zeros(len(tmp.treepositions()), dataset.vector_dim)\n",
    "#(idx, tree_matrix) = dataset.create_pointer_tree(tmp, 0, tree_matrix)\n",
    "#(idx, tree_matrix) = dataset.create_pointer_tree(tmp)"
   ]
  },
  {
   "cell_type": "code",
   "execution_count": 36,
   "metadata": {},
   "outputs": [],
   "source": [
    "#print(dataset.one_hot_dict.keys())\n",
    "#print(tmp)\n",
    "#print(tree_matrix[6])"
   ]
  },
  {
   "cell_type": "code",
   "execution_count": 40,
   "metadata": {},
   "outputs": [
    {
     "name": "stderr",
     "output_type": "stream",
     "text": [
      "100%|██████████| 1000/1000 [00:00<00:00, 5657.17it/s]\n"
     ]
    }
   ],
   "source": [
    "ptr_trees = [dataset.make_ptr_tree(tree) for tree in tqdm(trees)]"
   ]
  },
  {
   "cell_type": "code",
   "execution_count": 41,
   "metadata": {},
   "outputs": [
    {
     "data": {
      "text/plain": [
       "1000"
      ]
     },
     "execution_count": 41,
     "metadata": {},
     "output_type": "execute_result"
    }
   ],
   "source": [
    "len(ptr_trees)"
   ]
  },
  {
   "cell_type": "code",
   "execution_count": 43,
   "metadata": {},
   "outputs": [
    {
     "name": "stdout",
     "output_type": "stream",
     "text": [
      "(12 (6 (4 0 (3 1 2)) 5) (11 7 (10 8 9)))\n",
      "(* (* (+ 55 (+ 56 53)) 31) (- 5 (* 54 9)))\n"
     ]
    }
   ],
   "source": [
    "print(ptr_trees[1][0])\n",
    "print(trees[1])"
   ]
  },
  {
   "cell_type": "code",
   "execution_count": 48,
   "metadata": {},
   "outputs": [
    {
     "data": {
      "text/plain": [
       "\n",
       " 0  0  0  0  0\n",
       "[torch.FloatTensor of size 1x5]"
      ]
     },
     "execution_count": 48,
     "metadata": {},
     "output_type": "execute_result"
    }
   ],
   "source": [
    "from torch.autograd import Variable as Var\n",
    "Var(ptr_trees[1][1]).data.new(1, 5).fill_(0.)"
   ]
  },
  {
   "cell_type": "code",
   "execution_count": null,
   "metadata": {},
   "outputs": [],
   "source": []
  }
 ],
 "metadata": {
  "kernelspec": {
   "display_name": "Python 3",
   "language": "python",
   "name": "python3"
  },
  "language_info": {
   "codemirror_mode": {
    "name": "ipython",
    "version": 3
   },
   "file_extension": ".py",
   "mimetype": "text/x-python",
   "name": "python",
   "nbconvert_exporter": "python",
   "pygments_lexer": "ipython3",
   "version": "3.6.4"
  }
 },
 "nbformat": 4,
 "nbformat_minor": 2
}
